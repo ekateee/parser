{
  "nbformat": 4,
  "nbformat_minor": 0,
  "metadata": {
    "colab": {
      "name": "parser.ipynb",
      "provenance": [],
      "collapsed_sections": [
        "vDvZKyYkfQUW",
        "x-63l3zM7x8H",
        "EfbVwFPo745R"
      ],
      "toc_visible": true,
      "authorship_tag": "ABX9TyMFFz7+GZWp9qiMqu5keDvl",
      "include_colab_link": true
    },
    "kernelspec": {
      "name": "python3",
      "display_name": "Python 3"
    }
  },
  "cells": [
    {
      "cell_type": "markdown",
      "metadata": {
        "id": "view-in-github",
        "colab_type": "text"
      },
      "source": [
        "<a href=\"https://colab.research.google.com/github/ekateee/parser/blob/main/parser.ipynb\" target=\"_parent\"><img src=\"https://colab.research.google.com/assets/colab-badge.svg\" alt=\"Open In Colab\"/></a>"
      ]
    },
    {
      "cell_type": "code",
      "metadata": {
        "colab": {
          "base_uri": "https://localhost:8080/"
        },
        "id": "dkrtoFO9yDoE",
        "outputId": "0c2a14d3-8e7c-41f0-9103-7c7460816266"
      },
      "source": [
        "!pip3 install beautifulsoup4 requests"
      ],
      "execution_count": null,
      "outputs": [
        {
          "output_type": "stream",
          "text": [
            "Requirement already satisfied: beautifulsoup4 in /usr/local/lib/python3.6/dist-packages (4.6.3)\n",
            "Requirement already satisfied: requests in /usr/local/lib/python3.6/dist-packages (2.23.0)\n",
            "Requirement already satisfied: certifi>=2017.4.17 in /usr/local/lib/python3.6/dist-packages (from requests) (2020.12.5)\n",
            "Requirement already satisfied: chardet<4,>=3.0.2 in /usr/local/lib/python3.6/dist-packages (from requests) (3.0.4)\n",
            "Requirement already satisfied: idna<3,>=2.5 in /usr/local/lib/python3.6/dist-packages (from requests) (2.10)\n",
            "Requirement already satisfied: urllib3!=1.25.0,!=1.25.1,<1.26,>=1.21.1 in /usr/local/lib/python3.6/dist-packages (from requests) (1.24.3)\n"
          ],
          "name": "stdout"
        }
      ]
    },
    {
      "cell_type": "code",
      "metadata": {
        "id": "2ilPYsL6yy4e",
        "colab": {
          "base_uri": "https://localhost:8080/"
        },
        "outputId": "1596e217-b269-4f66-9afe-c33da68511f5"
      },
      "source": [
        "from bs4 import BeautifulSoup\n",
        "from google.colab import drive\n",
        "drive.mount('/content/drive/')\n",
        "import requests\n",
        "import json\n",
        "import re\n",
        "import os\n",
        "import pandas as pd\n",
        "\n",
        "headers = requests.utils.default_headers()\n",
        "headers.update({ 'User-Agent': 'Mozilla/5.0 (X11; Ubuntu; Linux x86_64; rv:52.0) Gecko/20100101 Firefox/69.0'})"
      ],
      "execution_count": null,
      "outputs": [
        {
          "output_type": "stream",
          "text": [
            "Mounted at /content/drive/\n"
          ],
          "name": "stdout"
        }
      ]
    },
    {
      "cell_type": "markdown",
      "metadata": {
        "id": "vDvZKyYkfQUW"
      },
      "source": [
        "##Получение URLs страниц категорий\n",
        "\n",
        "**Сбор текстов** из статей в качестве датасета.\n",
        "\n",
        "Данные берутся с сайта **https://www.newsru.com**\n",
        "\n",
        "По 4 категориям:\n",
        "1. Авто\n",
        "2. Технологии\n",
        "3. Недвижимость\n",
        "4. Спорт\n"
      ]
    },
    {
      "cell_type": "markdown",
      "metadata": {
        "id": "x-63l3zM7x8H"
      },
      "source": [
        "###Не используется\n",
        "\n",
        "*для себя*"
      ]
    },
    {
      "cell_type": "code",
      "metadata": {
        "id": "N8nX3hu8kNAI"
      },
      "source": [
        "def get_urls(url,name,n,first):\n",
        "  for i in range(first,n+1,1):\n",
        "    name_file = '/content/drive/MyDrive/urls_' + str(name) + '.txt'\n",
        "    with open(name_file,mode='a') as file:\n",
        "      file.write(url + str(i) + '/'+ '\\n')\n",
        "    "
      ],
      "execution_count": null,
      "outputs": []
    },
    {
      "cell_type": "code",
      "metadata": {
        "id": "OlBR5ERXjyu2"
      },
      "source": [
        "# get_urls('https://www.newsru.com/dossiers/30836/','пандемия',49,1)\n",
        "# get_urls('https://www.newsru.com/dossiers/30/','криминал',60,1)\n",
        "# get_urls('https://www.newsru.com/dossiers/154/','религия',60,1)\n",
        "# get_urls('https://www.newsru.com/dossiers/30836/','пандемия',60,51)"
      ],
      "execution_count": null,
      "outputs": []
    },
    {
      "cell_type": "markdown",
      "metadata": {
        "id": "EfbVwFPo745R"
      },
      "source": [
        "###Используется"
      ]
    },
    {
      "cell_type": "code",
      "metadata": {
        "id": "U8WqiLqg8oum"
      },
      "source": [
        "def get_urls_for_data(array_data,category,url,main_info):\n",
        "  for i in array_data:\n",
        "    name_file = main_info + str(category) + '.txt'\n",
        "    with open(name_file, mode='a') as file:\n",
        "      file.write(url + str(i) + '\\n')"
      ],
      "execution_count": null,
      "outputs": []
    },
    {
      "cell_type": "code",
      "metadata": {
        "id": "QuoQ1sXB5ooE"
      },
      "source": [
        "array_month = ['jan','feb','mar','apr','may','jun','jul','aug','sep','okt','nov','dec']\n",
        "array_years = ['2019/','2020/']\n",
        "array_data = [str(data) + month + year  for year in array_years for month in array_month  for data in range(1,30) ]\n",
        "\n",
        "get_urls_for_data(array_data,'авто','https://www.newsru.com/auto/','/content/drive/MyDrive/urls_' )\n",
        "get_urls_for_data(array_data,'технологии','https://www.newsru.com/hitech/','/content/drive/MyDrive/urls_' )\n",
        "get_urls_for_data(array_data,'недвижимость','https://www.newsru.com/realty/','/content/drive/MyDrive/urls_' )\n",
        "get_urls_for_data(array_data,'спорт','https://www.newsru.com/sport/','/content/drive/MyDrive/urls_' )\n"
      ],
      "execution_count": null,
      "outputs": []
    },
    {
      "cell_type": "markdown",
      "metadata": {
        "id": "5EZ0vrIHpcs5"
      },
      "source": [
        "###Для тестовой выборки"
      ]
    },
    {
      "cell_type": "code",
      "metadata": {
        "id": "B8V1V1zHpb1g"
      },
      "source": [
        "array_month = ['jan','feb','mar','apr','may','jun','jul','aug','sep','okt','nov','dec']\n",
        "array_years = ['2018/']\n",
        "array_data = [str(data) + month + year  for year in array_years for month in array_month  for data in range(1,30) ]\n",
        "\n",
        "get_urls_for_data(array_data,'авто','https://www.newsru.com/auto/','/content/drive/MyDrive/urls_test_' )\n",
        "get_urls_for_data(array_data,'технологии','https://www.newsru.com/hitech/','/content/drive/MyDrive/urls_test_' )\n",
        "get_urls_for_data(array_data,'недвижимость','https://www.newsru.com/realty/','/content/drive/MyDrive/urls_test_' )\n",
        "get_urls_for_data(array_data,'спорт','https://www.newsru.com/sport/','/content/drive/MyDrive/urls_test_' )"
      ],
      "execution_count": null,
      "outputs": []
    },
    {
      "cell_type": "markdown",
      "metadata": {
        "id": "tTIpm5W8vC5l"
      },
      "source": [
        "##Запись в файл"
      ]
    },
    {
      "cell_type": "code",
      "metadata": {
        "id": "2WErELLgvJcn"
      },
      "source": [
        "def writing_to_file(path,category,headers,storage):\n",
        "  main = 'https://www.newsru.com'\n",
        "  path = main + path \n",
        "  request = requests.get(path, headers)\n",
        "  soup = BeautifulSoup(request.content, 'html.parser')\n",
        "\n",
        "  title = soup.title.get_text().replace('NEWSru.com :: ','')\n",
        "  try:\n",
        "    result = soup.find_all('meta', attrs={'name': 'news_keywords'})\n",
        "    keywords = str(result[0]).replace('\\n','').replace('\" name=\"news_keywords\"/>','').replace('<meta content=\"','')  \n",
        "    tags = []\n",
        "    word = ' '\n",
        "    for i in range(len(keywords)):\n",
        "      if keywords[i] != ',':\n",
        "        word = word + keywords[i] \n",
        "      elif keywords[i]  ==',':\n",
        "        tags.append(word)\n",
        "        word =''\n",
        "    tags.append(word)\n",
        "    tags = [i[1:] for i in tags]\n",
        "  except:\n",
        "    tags = []\n",
        "\n",
        "  try:\n",
        "    text=''\n",
        "    news = soup.find('div',attrs={'class':'article-text'})\n",
        "    for script in news([\"script\", \"style\",\"center\",\"img\"]):                   \n",
        "      script.decompose()   \n",
        "    text =  news.get_text().replace('\\n','')  \n",
        "    if  text =='':\n",
        "      exit()\n",
        "  \n",
        "    name_storage = '/content/drive/MyDrive/'+ storage + '.json'\n",
        "    with open(name_storage,'a') as file:\n",
        "      file.write(json.dumps({\n",
        "          \"link\": path,\n",
        "          \"title\": title,\n",
        "          \"category\": category,\n",
        "          \"tags\": tags,\n",
        "          \"text\": text\n",
        "          }, ensure_ascii = False) + '\\n')\n",
        "  except:\n",
        "    exit()\n",
        "  "
      ],
      "execution_count": null,
      "outputs": []
    },
    {
      "cell_type": "markdown",
      "metadata": {
        "id": "RoJc54cIry22"
      },
      "source": [
        "##Получение URLs статей"
      ]
    },
    {
      "cell_type": "code",
      "metadata": {
        "id": "cVCf-UhWrj4F"
      },
      "source": [
        "def get_urls_article(url, headers):\n",
        "  request= requests.get(url, headers)\n",
        "  soup = BeautifulSoup(request.content, 'html.parser')\n",
        "  find_link = soup.find_all(href = re.compile(\".html$\"))\n",
        "  urls = []\n",
        "  for link in find_link:\n",
        "      urls.append(link.get('href'))\n",
        "  urls =  list(set(urls)) \n",
        "  return  urls \n"
      ],
      "execution_count": null,
      "outputs": []
    },
    {
      "cell_type": "markdown",
      "metadata": {
        "id": "dVxxApcXm47s"
      },
      "source": [
        "##Main"
      ]
    },
    {
      "cell_type": "code",
      "metadata": {
        "id": "BFVPGflttLjT"
      },
      "source": [
        "def open_file(path,category):\n",
        "  with open(path,'r') as file:\n",
        "    lines = file.readlines()[:-1]\n",
        "  urls =[]\n",
        "  for i in lines:\n",
        "    urls_articles = get_urls_article(i,headers) \n",
        "    for j in urls_articles:\n",
        "      urls.append(j)\n",
        "  urls =  list(set(urls)) \n",
        "  name_file = '/content/drive/MyDrive/urls_acticles_' + str(category) + '.txt'\n",
        "  with open(name_file, mode='a') as file:\n",
        "    for i in  urls:\n",
        "      file.write(i + '\\n')\n",
        "  print(len(urls))"
      ],
      "execution_count": null,
      "outputs": []
    },
    {
      "cell_type": "code",
      "metadata": {
        "id": "hdDvsMmx8UGq"
      },
      "source": [
        "open_file('/content/drive/MyDrive/urls_авто.txt','авто')\n",
        "open_file('/content/drive/MyDrive/urls_недвижимость.txt','недвижимость') \n",
        "open_file('/content/drive/MyDrive/urls_спорт.txt','спорт') \n",
        "open_file('/content/drive/MyDrive/urls_технологии.txt','технологии') "
      ],
      "execution_count": null,
      "outputs": []
    },
    {
      "cell_type": "code",
      "metadata": {
        "id": "wfPzE8iWkrAy"
      },
      "source": [
        "def get_info(category,count):\n",
        "  path = '/content/drive/MyDrive/urls_acticles_' + category +'.txt'\n",
        "  with open(path, mode='r') as file:\n",
        "    lines = file.readlines()[:count]\n",
        "  for line in lines:\n",
        "    writing_to_file(line, category, headers,'dataset')\n"
      ],
      "execution_count": null,
      "outputs": []
    },
    {
      "cell_type": "code",
      "metadata": {
        "id": "q_uSt-3cChoE"
      },
      "source": [
        "get_info('авто',1200)\n",
        "get_info('спорт',1200)\n",
        "get_info('технологии',1200)\n",
        "get_info(\"недвижимость\",1200)"
      ],
      "execution_count": null,
      "outputs": []
    },
    {
      "cell_type": "markdown",
      "metadata": {
        "id": "2wgE315T_DEW"
      },
      "source": [
        "##Выгрузка данных"
      ]
    },
    {
      "cell_type": "code",
      "metadata": {
        "colab": {
          "base_uri": "https://localhost:8080/",
          "height": 17
        },
        "id": "47b83uoyQchn",
        "outputId": "e20213f5-d9a7-477f-e9b9-a2b0ee2c4f51"
      },
      "source": [
        "import pandas as pd\n",
        "from google.colab import files\n",
        "files.download('/content/drive/MyDrive/dataset.json')\n"
      ],
      "execution_count": null,
      "outputs": [
        {
          "output_type": "display_data",
          "data": {
            "application/javascript": [
              "\n",
              "    async function download(id, filename, size) {\n",
              "      if (!google.colab.kernel.accessAllowed) {\n",
              "        return;\n",
              "      }\n",
              "      const div = document.createElement('div');\n",
              "      const label = document.createElement('label');\n",
              "      label.textContent = `Downloading \"${filename}\": `;\n",
              "      div.appendChild(label);\n",
              "      const progress = document.createElement('progress');\n",
              "      progress.max = size;\n",
              "      div.appendChild(progress);\n",
              "      document.body.appendChild(div);\n",
              "\n",
              "      const buffers = [];\n",
              "      let downloaded = 0;\n",
              "\n",
              "      const channel = await google.colab.kernel.comms.open(id);\n",
              "      // Send a message to notify the kernel that we're ready.\n",
              "      channel.send({})\n",
              "\n",
              "      for await (const message of channel.messages) {\n",
              "        // Send a message to notify the kernel that we're ready.\n",
              "        channel.send({})\n",
              "        if (message.buffers) {\n",
              "          for (const buffer of message.buffers) {\n",
              "            buffers.push(buffer);\n",
              "            downloaded += buffer.byteLength;\n",
              "            progress.value = downloaded;\n",
              "          }\n",
              "        }\n",
              "      }\n",
              "      const blob = new Blob(buffers, {type: 'application/binary'});\n",
              "      const a = document.createElement('a');\n",
              "      a.href = window.URL.createObjectURL(blob);\n",
              "      a.download = filename;\n",
              "      div.appendChild(a);\n",
              "      a.click();\n",
              "      div.remove();\n",
              "    }\n",
              "  "
            ],
            "text/plain": [
              "<IPython.core.display.Javascript object>"
            ]
          },
          "metadata": {
            "tags": []
          }
        },
        {
          "output_type": "display_data",
          "data": {
            "application/javascript": [
              "download(\"download_63be1437-0f1f-4f9f-a28d-72ff830e6575\", \"dataset.json\", 18921539)"
            ],
            "text/plain": [
              "<IPython.core.display.Javascript object>"
            ]
          },
          "metadata": {
            "tags": []
          }
        }
      ]
    },
    {
      "cell_type": "markdown",
      "metadata": {
        "id": "miFNa09q8inj"
      },
      "source": [
        "##Показ данных"
      ]
    },
    {
      "cell_type": "code",
      "metadata": {
        "id": "KbfYZ47C7f2Y",
        "colab": {
          "base_uri": "https://localhost:8080/",
          "height": 272
        },
        "outputId": "675c25fb-3787-4f65-cabe-2e29d9e950b7"
      },
      "source": [
        "news=[]\n",
        "with open('/content/drive/MyDrive/dataset.json','r') as file:\n",
        "  for line in file:\n",
        "    news.append(json.loads(line[:-1]))\n",
        "df = pd.DataFrame(news)\n",
        "df.head()"
      ],
      "execution_count": null,
      "outputs": [
        {
          "output_type": "execute_result",
          "data": {
            "text/html": [
              "<div>\n",
              "<style scoped>\n",
              "    .dataframe tbody tr th:only-of-type {\n",
              "        vertical-align: middle;\n",
              "    }\n",
              "\n",
              "    .dataframe tbody tr th {\n",
              "        vertical-align: top;\n",
              "    }\n",
              "\n",
              "    .dataframe thead th {\n",
              "        text-align: right;\n",
              "    }\n",
              "</style>\n",
              "<table border=\"1\" class=\"dataframe\">\n",
              "  <thead>\n",
              "    <tr style=\"text-align: right;\">\n",
              "      <th></th>\n",
              "      <th>link</th>\n",
              "      <th>title</th>\n",
              "      <th>category</th>\n",
              "      <th>tags</th>\n",
              "      <th>text</th>\n",
              "    </tr>\n",
              "  </thead>\n",
              "  <tbody>\n",
              "    <tr>\n",
              "      <th>0</th>\n",
              "      <td>https://www.newsru.com/auto/18May2020/911_targ...</td>\n",
              "      <td>Porsche представила обновленную модель 911 Tar...</td>\n",
              "      <td>авто</td>\n",
              "      <td>[Porsche, Porsche 911 Targa, презентация]</td>\n",
              "      <td>Компания Porsche официально представила спортк...</td>\n",
              "    </tr>\n",
              "    <tr>\n",
              "      <th>1</th>\n",
              "      <td>https://www.newsru.com/auto/16Mar2020/rsa_to.h...</td>\n",
              "      <td>Минэкономики подготовило правила контроля опер...</td>\n",
              "      <td>авто</td>\n",
              "      <td>[]</td>\n",
              "      <td>Минэкономики направило в правительство проект ...</td>\n",
              "    </tr>\n",
              "    <tr>\n",
              "      <th>2</th>\n",
              "      <td>https://www.newsru.com/auto/02Nov2020/epts.html\\n</td>\n",
              "      <td>После череды отсрочек Россия перешла на электр...</td>\n",
              "      <td>авто</td>\n",
              "      <td>[Россия, ЕАЭС, ЭПТС, водители]</td>\n",
              "      <td>С 1 ноября все автомобили, поставляемые в Росс...</td>\n",
              "    </tr>\n",
              "    <tr>\n",
              "      <th>3</th>\n",
              "      <td>https://www.newsru.com/auto/26Dec2019/rivian_t...</td>\n",
              "      <td>Электропикап Rivian получил \"танковый режим\", ...</td>\n",
              "      <td>авто</td>\n",
              "      <td>[]</td>\n",
              "      <td>Американский стартап Rivian опубликовал на сво...</td>\n",
              "    </tr>\n",
              "    <tr>\n",
              "      <th>4</th>\n",
              "      <td>https://www.newsru.com/auto/15May2020/avtovaz_...</td>\n",
              "      <td>\"АвтоВАЗ\" возобновит производство с 18 мая</td>\n",
              "      <td>авто</td>\n",
              "      <td>[АвтоВАЗ, автопром, возобновление производства]</td>\n",
              "      <td>Компания \"АвтоВАЗ\" подтвердила планы с 18 мая ...</td>\n",
              "    </tr>\n",
              "  </tbody>\n",
              "</table>\n",
              "</div>"
            ],
            "text/plain": [
              "                                                link  ...                                               text\n",
              "0  https://www.newsru.com/auto/18May2020/911_targ...  ...  Компания Porsche официально представила спортк...\n",
              "1  https://www.newsru.com/auto/16Mar2020/rsa_to.h...  ...  Минэкономики направило в правительство проект ...\n",
              "2  https://www.newsru.com/auto/02Nov2020/epts.html\\n  ...  С 1 ноября все автомобили, поставляемые в Росс...\n",
              "3  https://www.newsru.com/auto/26Dec2019/rivian_t...  ...  Американский стартап Rivian опубликовал на сво...\n",
              "4  https://www.newsru.com/auto/15May2020/avtovaz_...  ...  Компания \"АвтоВАЗ\" подтвердила планы с 18 мая ...\n",
              "\n",
              "[5 rows x 5 columns]"
            ]
          },
          "metadata": {
            "tags": []
          },
          "execution_count": 25
        }
      ]
    },
    {
      "cell_type": "code",
      "metadata": {
        "id": "yzFhmqSt7hLA",
        "colab": {
          "base_uri": "https://localhost:8080/",
          "height": 277
        },
        "outputId": "67f1e434-d98d-4ae0-d146-58fd2bb2cbb4"
      },
      "source": [
        "cirle_diagrama = df[\"category\"].value_counts().plot.pie(subplots = True, legend = True, autopct = '%2.3f%%', title = \"Отношение классов\")\n"
      ],
      "execution_count": null,
      "outputs": [
        {
          "output_type": "display_data",
          "data": {
            "image/png": "[encoded data removed]",
            "text/plain": [
              "<Figure size 432x288 with 1 Axes>"
            ]
          },
          "metadata": {
            "tags": []
          }
        }
      ]
    },
    {
      "cell_type": "code",
      "metadata": {
        "colab": {
          "base_uri": "https://localhost:8080/"
        },
        "id": "XPc0SIpe-sL1",
        "outputId": "f93ceb3a-0695-4e0c-e3a6-075123f6ca93"
      },
      "source": [
        "df = df['category'].value_counts().reset_index()\n",
        "df.columns = ['category', 'count']\n",
        "print (df)"
      ],
      "execution_count": null,
      "outputs": [
        {
          "output_type": "stream",
          "text": [
            "       category  count\n",
            "0         спорт   1211\n",
            "1    технологии   1200\n",
            "2          авто   1200\n",
            "3  недвижимость   1131\n"
          ],
          "name": "stdout"
        }
      ]
    }
  ]
}